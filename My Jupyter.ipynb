{
  "metadata": {
    "language_info": {
      "codemirror_mode": {
        "name": "python",
        "version": 3
      },
      "file_extension": ".py",
      "mimetype": "text/x-python",
      "name": "python",
      "nbconvert_exporter": "python",
      "pygments_lexer": "ipython3",
      "version": "3.8"
    },
    "kernelspec": {
      "name": "python",
      "display_name": "Pyolite",
      "language": "python"
    }
  },
  "nbformat_minor": 4,
  "nbformat": 4,
  "cells": [
    {
      "cell_type": "markdown",
      "source": "# My Jupyter Notebook on IBM Watson Studio",
      "metadata": {}
    },
    {
      "cell_type": "markdown",
      "source": "**Vishwesh Hemant Sarkar**\nStudent\n",
      "metadata": {}
    },
    {
      "cell_type": "markdown",
      "source": "*I am interesed in Data Science beacuse I was very keen about data from start, asking many questions about whatever new things i see or i was introduce too*",
      "metadata": {}
    },
    {
      "cell_type": "markdown",
      "source": "### The code below is about addition of two numbers",
      "metadata": {}
    },
    {
      "cell_type": "code",
      "source": "1+1",
      "metadata": {
        "trusted": true
      },
      "execution_count": 2,
      "outputs": [
        {
          "execution_count": 2,
          "output_type": "execute_result",
          "data": {
            "text/plain": "2"
          },
          "metadata": {}
        }
      ]
    },
    {
      "cell_type": "markdown",
      "source": "|header|header|\n|----|----|\n|cell|cell|\n\n- Python\n  * Pyplot\n  * Pandas\n  * Numpy\n- Java\n  * Spring\n  * Hibernate\n  \n1.  Python\n  * Pyplot\n  * Pandas\n  * Numpy\n- Java\n  * Spring\n  * Hibernate\n  ",
      "metadata": {}
    },
    {
      "cell_type": "code",
      "source": "",
      "metadata": {},
      "execution_count": null,
      "outputs": []
    }
  ]
}